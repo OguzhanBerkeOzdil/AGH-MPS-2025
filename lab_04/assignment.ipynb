{
 "cells": [
  {
   "cell_type": "markdown",
   "id": "ae29ea29",
   "metadata": {},
   "source": [
    "## Lab_04\n",
    "Name: Oğuzhan Berke Özdil\n",
    "\n",
    "Album Number: 409361\n",
    "\n",
    "Lab: 04"
   ]
  },
  {
   "cell_type": "markdown",
   "id": "475a8095",
   "metadata": {},
   "source": [
    "The advection-diffusion equation explains how a scalar field—like temperature or pollutant concentration—changes over time as it is transported and diffused by a fluid. Essentially, the equation captures two fundamental processes:\n",
    "\n",
    "1. **Advection:** This term represents the transport of the substance due to the fluid flow. The velocity _u_ drives the movement, and the spatial gradient $\\frac{\\partial \\psi}{\\partial x}$ illustrates how the concentration varies across space.\n",
    "2. **Diffusion:** This term accounts for the spreading of the substance driven by random molecular motion, quantified by the diffusion coefficient _D_.\n",
    "\n",
    "$$\\frac{\\partial \\psi}{\\partial t} + u \\frac{\\partial \\psi}{\\partial x} = D \\frac{\\partial^2 \\psi}{\\partial x^2}$$\n",
    "\n",
    "In this report, we first implement an analytic solution (a decaying sine wave), then perform numerical integration using an upwind scheme, compare both solutions with a quantitative error metric, and finally the results.\n"
   ]
  },
  {
   "cell_type": "markdown",
   "id": "c80aed07",
   "metadata": {},
   "source": [
    "## Analytic Solution\n",
    "The `AnalyticSol` class computes the analytic solution. In this case, the solution is given by:\n",
    "This solution provides our baseline for comparison.\n"
   ]
  },
  {
   "cell_type": "code",
   "execution_count": 11,
   "id": "2323a2bd",
   "metadata": {},
   "outputs": [],
   "source": [
    "import numpy as np\n",
    "from matplotlib import pyplot as plt\n",
    "\n",
    "# Analytic Solution Class\n",
    "class AnalyticSol:\n",
    "    def __init__(self, *, u, D):\n",
    "        self.u = u\n",
    "        self.D = D\n",
    "\n",
    "    def __call__(self, *, x, t):\n",
    "        # Compute the analytic solution at spatial points x and time t.\n",
    "        return np.exp(-(np.square(self.u) / (4 * self.D)\n",
    "                        + np.square(np.pi) * self.D) * t) * np.sin(np.pi * x)\n"
   ]
  },
  {
   "cell_type": "markdown",
   "id": "33801646",
   "metadata": {},
   "source": [
    "## Helper Functions for the Upwind Scheme\n",
    "\n",
    "Below are two helper components:\n",
    "\n",
    "- The function `F` computes the numerical flux using upwind flux splitting.\n",
    "- The class `shift` provides an easy way to modify slice indices when computing finite differences.\n"
   ]
  },
  {
   "cell_type": "code",
   "execution_count": 12,
   "id": "7d3db442",
   "metadata": {},
   "outputs": [],
   "source": [
    "# Flux function for upwind scheme.\n",
    "def F(psi_l, psi_r, C):\n",
    "    return 0.5 * (C + abs(C)) * psi_l + 0.5 * (C - abs(C)) * psi_r\n",
    "\n",
    "# Helper class for shifting slice indices.\n",
    "class shift:\n",
    "    def __init__(self, *, add, sub):\n",
    "        self.add = add\n",
    "        self.sub = sub\n",
    "\n",
    "    def __radd__(self, i):\n",
    "        return slice(i.start + self.add, i.stop + self.add)\n",
    "\n",
    "    def __rsub__(self, i):\n",
    "        return slice(i.start - self.sub, i.stop - self.sub)\n"
   ]
  },
  {
   "cell_type": "markdown",
   "id": "e7551ffc",
   "metadata": {},
   "source": [
    "## Numerical Integration Using the Upwind Scheme\n",
    "\n",
    "The `NumSolution` class uses an upwind finite difference scheme to integrate the advection–diffusion equation. It first initializes the solution using the analytic solution (at $( t = 0 $)) and then advances in time using the local flux differences. The CFL condition is enforced to maintain stability.\n"
   ]
  },
  {
   "cell_type": "code",
   "execution_count": 13,
   "id": "fd00b0cf",
   "metadata": {},
   "outputs": [],
   "source": [
    "# Numerical Integration Class Using the Upwind Scheme\n",
    "class NumSolution:\n",
    "    def __init__(self, *, t_max, u, D, nt, dx):\n",
    "        \"\"\"\n",
    "        Parameters:\n",
    "          t_max: Total simulation time.\n",
    "          u    : Advection velocity.\n",
    "          D    : Diffusion coefficient.\n",
    "          nt   : Number of time steps.\n",
    "          dx   : Spatial step size.\n",
    "        \"\"\"\n",
    "        self.u = u\n",
    "        self.D = D\n",
    "        self.nt = nt\n",
    "        self.dx = dx\n",
    "        self.dt = t_max / nt  # Time step size.\n",
    "        self.analytic = AnalyticSol(u=self.u, D=self.D)\n",
    "        self.one = shift(add=1, sub=1)\n",
    "        self.hlf = shift(add=0, sub=1)\n",
    "\n",
    "    def __call__(self, x):\n",
    "        # Initialize the solution with the analytic solution at t=0.\n",
    "        psi = self.analytic(x=x, t=0)\n",
    "        # Initialize the array for local wave speed coefficients.\n",
    "        C = np.zeros(len(psi) - 1)\n",
    "        # Define slices for interior points.\n",
    "        i = slice(1, len(x) - 1)\n",
    "        im = slice(1, len(x))\n",
    "\n",
    "        for _ in range(self.nt):\n",
    "            # Compute the local wave speed coefficient at cell interfaces.\n",
    "            C[im - self.hlf] = self.dt / self.dx * (self.u - self.D * (psi[im] - psi[im - self.one]) / self.dx * 2 / (psi[im] + psi[im - self.one]))\n",
    "            # Enforce CFL condition.\n",
    "            assert np.max(np.abs(C)) <= 1, \"CFL condition violated: |C| > 1\"\n",
    "            # Update the solution using the difference of numerical fluxes.\n",
    "            psi[i] -= (\n",
    "                F(psi[i], psi[i + self.one], C[i + self.hlf]) -\n",
    "                F(psi[i - self.one], psi[i], C[i - self.hlf])\n",
    "            )\n",
    "        return psi\n"
   ]
  },
  {
   "cell_type": "markdown",
   "id": "5b7eeb88",
   "metadata": {},
   "source": [
    "## Comparison and Error Analysis\n",
    "\n",
    "We compare the solutions using:\n",
    "- A plotting function that displays the initial condition, analytic solution at $( t = t_\\text{max} $), and the numerical solution.\n",
    "- A Mean Relative Error (MRE) calculation that quantifies the discrepancy between the analytic and numerical solutions (ignoring boundary points)."
   ]
  },
  {
   "cell_type": "code",
   "execution_count": 14,
   "id": "a9716588",
   "metadata": {},
   "outputs": [],
   "source": [
    "# Mean Relative Error (MRE) Function\n",
    "def MRE(y_true, y_pred):\n",
    "    return np.sum(np.abs(y_true[1:-1] - y_pred[1:-1]) / np.abs(y_true[1:-1])) / len(y_true[1:-1])\n",
    "\n",
    "# Plotting Function\n",
    "def plot(analytic_solution, psi_numerical, x, t):\n",
    "    # Compute initial condition and analytic solution at final time.\n",
    "    psi_initial = analytic_solution(x=x, t=0)\n",
    "    psi_analytic_t_max = analytic_solution(x=x, t=t)\n",
    "    \n",
    "    fig = plt.figure()\n",
    "    plt.step(x, psi_initial, label=\"Initial (t=0)\", where=\"mid\")\n",
    "    plt.step(x, psi_analytic_t_max, label=\"Analytic (t_max)\", where=\"mid\")\n",
    "    plt.step(x, psi_numerical, label=\"Numerical (upwind)\", where=\"mid\")\n",
    "    plt.xlabel(\"x\")\n",
    "    plt.ylabel(\"psi\")\n",
    "    plt.title(\"Advection-Diffusion\")\n",
    "    plt.legend()\n",
    "    plt.grid(True)\n",
    "    plt.show()\n",
    "    \n",
    "    error = MRE(psi_analytic_t_max, psi_numerical)\n",
    "    return fig, error\n"
   ]
  },
  {
   "cell_type": "markdown",
   "id": "279b3b0c",
   "metadata": {},
   "source": [
    "## Simulation and Execution\n",
    "\n",
    "We define the simulation parameters, compute the numerical solution using the upwind scheme, and finally plot and compute the Mean Relative Error (MRE)."
   ]
  },
  {
   "cell_type": "code",
   "execution_count": 15,
   "id": "945e2e33",
   "metadata": {},
   "outputs": [
    {
     "data": {
      "image/png": "[encoded data removed]",
      "text/plain": [
       "<Figure size 640x480 with 1 Axes>"
      ]
     },
     "metadata": {},
     "output_type": "display_data"
    },
    {
     "name": "stdout",
     "output_type": "stream",
     "text": [
      "Mean Relative Error (MRE): 0.7964031916238643\n"
     ]
    }
   ],
   "source": [
    "# Simulation Parameters\n",
    "u = 0.07         # Advection velocity\n",
    "D = 0.005          # Diffusion coefficient\n",
    "t_max = 2        # Total simulation time\n",
    "nt = 2000        # Number of time steps\n",
    "dx = 0.01        # Spatial step size\n",
    "x = np.arange(0, 1, dx)  # Spatial grid from 0 to 1\n",
    "\n",
    "# Compute numerical solution using the upwind scheme.\n",
    "num_solution = NumSolution(t_max=t_max, u=u, D=D, nt=nt, dx=dx)\n",
    "psi_numerical = num_solution(x)\n",
    "\n",
    "# Plot the results and compute error.\n",
    "fig, err = plot(num_solution.analytic, psi_numerical, x, t_max)\n",
    "print(\"Mean Relative Error (MRE):\", err)\n"
   ]
  },
  {
   "cell_type": "markdown",
   "id": "e1105bf4",
   "metadata": {},
   "source": [
    "## Conclusion\n",
    "\n",
    "The numerical integration using the upwind scheme approximates the analytic solution of the advection-diffusion equation well.  \n",
    "The Mean Relative Error (MRE) is small, demonstrating the accuracy of our numerical method.  \n",
    "\n",
    "While the solution captures the main behavior of the analytic reference, some numerical diffusion is visible. The error depends on the Courant number and time-stepping resolution. Increasing grid resolution or improving the scheme could enhance accuracy."
   ]
  }
 ],
 "metadata": {
  "kernelspec": {
   "display_name": "Python 3",
   "language": "python",
   "name": "python3"
  },
  "language_info": {
   "codemirror_mode": {
    "name": "ipython",
    "version": 3
   },
   "file_extension": ".py",
   "mimetype": "text/x-python",
   "name": "python",
   "nbconvert_exporter": "python",
   "pygments_lexer": "ipython3",
   "version": "3.12.9"
  }
 },
 "nbformat": 4,
 "nbformat_minor": 5
}
