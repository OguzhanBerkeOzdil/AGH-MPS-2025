{
 "cells": [
  {
   "cell_type": "markdown",
   "id": "80339956-b3c6-4129-a02d-64de0a53f1be",
   "metadata": {},
   "source": [
    "# AGH Modelling of Physical Systems Lab 4 (2025 March 25th)\n",
    "Sylwester Arabas (sylwester.arabas@agh.edu.pl)"
   ]
  },
  {
   "cell_type": "markdown",
   "id": "c73824e6-6946-4d30-824e-0e1467f4e06f",
   "metadata": {},
   "source": [
    "**1. diffusion PDE**\n",
    "\n",
    "Let's introduce a few symbols:   \n",
    "* ${\\color{red}t}$: time   \n",
    "* ${\\color{blue}x}$: physical coordinate (e.g., distance or altitude)   \n",
    "* ${\\color{green}\\psi}({\\color{blue}x})$: scalar field (e.g., pollutant concentration)   \n",
    "\n",
    "Transport of $\\color{green}\\psi$ due to diffusion with consant coefficient $\\color{orange}\\mu$ can be modelled with the diffusion equation:\n",
    "$$ \\partial_{\\color{red} t} {\\color{green}\\psi} - {\\color{orange}\\mu} \\partial^2_{\\color{blue}x}{\\color{green}\\psi}= 0 $$\n",
    "\n",
    "For the special case of domain of length $L$ and initial condition ${\\color{green}\\psi}({\\color{red} t}=0,{\\color{blue}x}) = \\sin(\\pi {\\color{blue}x} / L)$, an analytical solution is readily available:\n",
    "$$ {\\color{green}\\psi}({\\color{blue}x}, {\\color{red}t})=e^{-\\mu (\\pi/L)^2 {\\color{red} t}} \\sin(\\pi {\\color{blue}x} / L)$$\n",
    "\n",
    "Let's depict the problem using NumPy and matplotlib:"
   ]
  },
  {
   "cell_type": "code",
   "execution_count": 1,
   "id": "ed4d52c6-47b5-40f3-8ef4-43c13e405423",
   "metadata": {},
   "outputs": [],
   "source": [
    "import numpy as np\n",
    "from matplotlib import pyplot\n",
    "from open_atmos_jupyter_utils import show_plot, show_anim"
   ]
  },
  {
   "cell_type": "code",
   "execution_count": 2,
   "id": "bd99e666-e6d3-4d92-a81a-72c6acec4a2b",
   "metadata": {},
   "outputs": [],
   "source": [
    "class PsiAnalytic:\n",
    "    def __init__(self, *, mu, L):\n",
    "        self.mu = mu\n",
    "        self.L = L\n",
    "    def __call__(self, *, x, t):\n",
    "        return np.nan  # TODO"
   ]
  },
  {
   "cell_type": "code",
   "execution_count": 3,
   "id": "2c01a2a2-f2a5-4574-96d6-f3e6e75ae468",
   "metadata": {},
   "outputs": [],
   "source": [
    "psi_analytic = PsiAnalytic(mu=.5, L=10)\n",
    "nx = 64\n",
    "x, dx = np.linspace(0, psi_analytic.L, nx, endpoint=True, retstep=True)\n",
    "x = x[:-1] + dx/2\n",
    "t_max = 10"
   ]
  },
  {
   "cell_type": "code",
   "execution_count": 4,
   "id": "b34d89ff-4b2c-49b0-a0ea-3969f9157d42",
   "metadata": {},
   "outputs": [
    {
     "ename": "ValueError",
     "evalue": "x and y must have same first dimension, but have shapes (63,) and (1,)",
     "output_type": "error",
     "traceback": [
      "\u001b[31m---------------------------------------------------------------------------\u001b[39m",
      "\u001b[31mValueError\u001b[39m                                Traceback (most recent call last)",
      "\u001b[36mCell\u001b[39m\u001b[36m \u001b[39m\u001b[32mIn[4]\u001b[39m\u001b[32m, line 1\u001b[39m\n\u001b[32m----> \u001b[39m\u001b[32m1\u001b[39m \u001b[43mpyplot\u001b[49m\u001b[43m.\u001b[49m\u001b[43mplot\u001b[49m\u001b[43m(\u001b[49m\u001b[43mx\u001b[49m\u001b[43m,\u001b[49m\u001b[43m \u001b[49m\u001b[43mpsi_analytic\u001b[49m\u001b[43m(\u001b[49m\u001b[43mx\u001b[49m\u001b[43m=\u001b[49m\u001b[43mx\u001b[49m\u001b[43m,\u001b[49m\u001b[43mt\u001b[49m\u001b[43m=\u001b[49m\u001b[32;43m0\u001b[39;49m\u001b[43m)\u001b[49m\u001b[43m,\u001b[49m\u001b[43m \u001b[49m\u001b[43mlabel\u001b[49m\u001b[43m=\u001b[49m\u001b[33;43m'\u001b[39;49m\u001b[33;43minitial\u001b[39;49m\u001b[33;43m'\u001b[39;49m\u001b[43m)\u001b[49m\n\u001b[32m      2\u001b[39m pyplot.plot(x, psi_analytic(x=x,t=t_max), label=\u001b[33mf\u001b[39m\u001b[33m'\u001b[39m\u001b[33manalytical at \u001b[39m\u001b[38;5;132;01m{\u001b[39;00mt_max\u001b[38;5;132;01m=}\u001b[39;00m\u001b[33m'\u001b[39m)\n\u001b[32m      3\u001b[39m pyplot.legend()\n",
      "\u001b[36mFile \u001b[39m\u001b[32mc:\\Users\\ucunb\\AppData\\Local\\Programs\\Python\\Python312\\Lib\\site-packages\\matplotlib\\pyplot.py:3827\u001b[39m, in \u001b[36mplot\u001b[39m\u001b[34m(scalex, scaley, data, *args, **kwargs)\u001b[39m\n\u001b[32m   3819\u001b[39m \u001b[38;5;129m@_copy_docstring_and_deprecators\u001b[39m(Axes.plot)\n\u001b[32m   3820\u001b[39m \u001b[38;5;28;01mdef\u001b[39;00m\u001b[38;5;250m \u001b[39m\u001b[34mplot\u001b[39m(\n\u001b[32m   3821\u001b[39m     *args: \u001b[38;5;28mfloat\u001b[39m | ArrayLike | \u001b[38;5;28mstr\u001b[39m,\n\u001b[32m   (...)\u001b[39m\u001b[32m   3825\u001b[39m     **kwargs,\n\u001b[32m   3826\u001b[39m ) -> \u001b[38;5;28mlist\u001b[39m[Line2D]:\n\u001b[32m-> \u001b[39m\u001b[32m3827\u001b[39m     \u001b[38;5;28;01mreturn\u001b[39;00m \u001b[43mgca\u001b[49m\u001b[43m(\u001b[49m\u001b[43m)\u001b[49m\u001b[43m.\u001b[49m\u001b[43mplot\u001b[49m\u001b[43m(\u001b[49m\n\u001b[32m   3828\u001b[39m \u001b[43m        \u001b[49m\u001b[43m*\u001b[49m\u001b[43margs\u001b[49m\u001b[43m,\u001b[49m\n\u001b[32m   3829\u001b[39m \u001b[43m        \u001b[49m\u001b[43mscalex\u001b[49m\u001b[43m=\u001b[49m\u001b[43mscalex\u001b[49m\u001b[43m,\u001b[49m\n\u001b[32m   3830\u001b[39m \u001b[43m        \u001b[49m\u001b[43mscaley\u001b[49m\u001b[43m=\u001b[49m\u001b[43mscaley\u001b[49m\u001b[43m,\u001b[49m\n\u001b[32m   3831\u001b[39m \u001b[43m        \u001b[49m\u001b[43m*\u001b[49m\u001b[43m*\u001b[49m\u001b[43m(\u001b[49m\u001b[43m{\u001b[49m\u001b[33;43m\"\u001b[39;49m\u001b[33;43mdata\u001b[39;49m\u001b[33;43m\"\u001b[39;49m\u001b[43m:\u001b[49m\u001b[43m \u001b[49m\u001b[43mdata\u001b[49m\u001b[43m}\u001b[49m\u001b[43m \u001b[49m\u001b[38;5;28;43;01mif\u001b[39;49;00m\u001b[43m \u001b[49m\u001b[43mdata\u001b[49m\u001b[43m \u001b[49m\u001b[38;5;129;43;01mis\u001b[39;49;00m\u001b[43m \u001b[49m\u001b[38;5;129;43;01mnot\u001b[39;49;00m\u001b[43m \u001b[49m\u001b[38;5;28;43;01mNone\u001b[39;49;00m\u001b[43m \u001b[49m\u001b[38;5;28;43;01melse\u001b[39;49;00m\u001b[43m \u001b[49m\u001b[43m{\u001b[49m\u001b[43m}\u001b[49m\u001b[43m)\u001b[49m\u001b[43m,\u001b[49m\n\u001b[32m   3832\u001b[39m \u001b[43m        \u001b[49m\u001b[43m*\u001b[49m\u001b[43m*\u001b[49m\u001b[43mkwargs\u001b[49m\u001b[43m,\u001b[49m\n\u001b[32m   3833\u001b[39m \u001b[43m    \u001b[49m\u001b[43m)\u001b[49m\n",
      "\u001b[36mFile \u001b[39m\u001b[32mc:\\Users\\ucunb\\AppData\\Local\\Programs\\Python\\Python312\\Lib\\site-packages\\matplotlib\\axes\\_axes.py:1777\u001b[39m, in \u001b[36mAxes.plot\u001b[39m\u001b[34m(self, scalex, scaley, data, *args, **kwargs)\u001b[39m\n\u001b[32m   1534\u001b[39m \u001b[38;5;250m\u001b[39m\u001b[33;03m\"\"\"\u001b[39;00m\n\u001b[32m   1535\u001b[39m \u001b[33;03mPlot y versus x as lines and/or markers.\u001b[39;00m\n\u001b[32m   1536\u001b[39m \n\u001b[32m   (...)\u001b[39m\u001b[32m   1774\u001b[39m \u001b[33;03m(``'green'``) or hex strings (``'#008000'``).\u001b[39;00m\n\u001b[32m   1775\u001b[39m \u001b[33;03m\"\"\"\u001b[39;00m\n\u001b[32m   1776\u001b[39m kwargs = cbook.normalize_kwargs(kwargs, mlines.Line2D)\n\u001b[32m-> \u001b[39m\u001b[32m1777\u001b[39m lines = [*\u001b[38;5;28mself\u001b[39m._get_lines(\u001b[38;5;28mself\u001b[39m, *args, data=data, **kwargs)]\n\u001b[32m   1778\u001b[39m \u001b[38;5;28;01mfor\u001b[39;00m line \u001b[38;5;129;01min\u001b[39;00m lines:\n\u001b[32m   1779\u001b[39m     \u001b[38;5;28mself\u001b[39m.add_line(line)\n",
      "\u001b[36mFile \u001b[39m\u001b[32mc:\\Users\\ucunb\\AppData\\Local\\Programs\\Python\\Python312\\Lib\\site-packages\\matplotlib\\axes\\_base.py:297\u001b[39m, in \u001b[36m_process_plot_var_args.__call__\u001b[39m\u001b[34m(self, axes, data, return_kwargs, *args, **kwargs)\u001b[39m\n\u001b[32m    295\u001b[39m     this += args[\u001b[32m0\u001b[39m],\n\u001b[32m    296\u001b[39m     args = args[\u001b[32m1\u001b[39m:]\n\u001b[32m--> \u001b[39m\u001b[32m297\u001b[39m \u001b[38;5;28;01myield from\u001b[39;00m \u001b[38;5;28;43mself\u001b[39;49m\u001b[43m.\u001b[49m\u001b[43m_plot_args\u001b[49m\u001b[43m(\u001b[49m\n\u001b[32m    298\u001b[39m \u001b[43m    \u001b[49m\u001b[43maxes\u001b[49m\u001b[43m,\u001b[49m\u001b[43m \u001b[49m\u001b[43mthis\u001b[49m\u001b[43m,\u001b[49m\u001b[43m \u001b[49m\u001b[43mkwargs\u001b[49m\u001b[43m,\u001b[49m\u001b[43m \u001b[49m\u001b[43mambiguous_fmt_datakey\u001b[49m\u001b[43m=\u001b[49m\u001b[43mambiguous_fmt_datakey\u001b[49m\u001b[43m,\u001b[49m\n\u001b[32m    299\u001b[39m \u001b[43m    \u001b[49m\u001b[43mreturn_kwargs\u001b[49m\u001b[43m=\u001b[49m\u001b[43mreturn_kwargs\u001b[49m\n\u001b[32m    300\u001b[39m \u001b[43m\u001b[49m\u001b[43m)\u001b[49m\n",
      "\u001b[36mFile \u001b[39m\u001b[32mc:\\Users\\ucunb\\AppData\\Local\\Programs\\Python\\Python312\\Lib\\site-packages\\matplotlib\\axes\\_base.py:494\u001b[39m, in \u001b[36m_process_plot_var_args._plot_args\u001b[39m\u001b[34m(self, axes, tup, kwargs, return_kwargs, ambiguous_fmt_datakey)\u001b[39m\n\u001b[32m    491\u001b[39m     axes.yaxis.update_units(y)\n\u001b[32m    493\u001b[39m \u001b[38;5;28;01mif\u001b[39;00m x.shape[\u001b[32m0\u001b[39m] != y.shape[\u001b[32m0\u001b[39m]:\n\u001b[32m--> \u001b[39m\u001b[32m494\u001b[39m     \u001b[38;5;28;01mraise\u001b[39;00m \u001b[38;5;167;01mValueError\u001b[39;00m(\u001b[33mf\u001b[39m\u001b[33m\"\u001b[39m\u001b[33mx and y must have same first dimension, but \u001b[39m\u001b[33m\"\u001b[39m\n\u001b[32m    495\u001b[39m                      \u001b[33mf\u001b[39m\u001b[33m\"\u001b[39m\u001b[33mhave shapes \u001b[39m\u001b[38;5;132;01m{\u001b[39;00mx.shape\u001b[38;5;132;01m}\u001b[39;00m\u001b[33m and \u001b[39m\u001b[38;5;132;01m{\u001b[39;00my.shape\u001b[38;5;132;01m}\u001b[39;00m\u001b[33m\"\u001b[39m)\n\u001b[32m    496\u001b[39m \u001b[38;5;28;01mif\u001b[39;00m x.ndim > \u001b[32m2\u001b[39m \u001b[38;5;129;01mor\u001b[39;00m y.ndim > \u001b[32m2\u001b[39m:\n\u001b[32m    497\u001b[39m     \u001b[38;5;28;01mraise\u001b[39;00m \u001b[38;5;167;01mValueError\u001b[39;00m(\u001b[33mf\u001b[39m\u001b[33m\"\u001b[39m\u001b[33mx and y can be no greater than 2D, but have \u001b[39m\u001b[33m\"\u001b[39m\n\u001b[32m    498\u001b[39m                      \u001b[33mf\u001b[39m\u001b[33m\"\u001b[39m\u001b[33mshapes \u001b[39m\u001b[38;5;132;01m{\u001b[39;00mx.shape\u001b[38;5;132;01m}\u001b[39;00m\u001b[33m and \u001b[39m\u001b[38;5;132;01m{\u001b[39;00my.shape\u001b[38;5;132;01m}\u001b[39;00m\u001b[33m\"\u001b[39m)\n",
      "\u001b[31mValueError\u001b[39m: x and y must have same first dimension, but have shapes (63,) and (1,)"
     ]
    },
    {
     "data": {
      "image/png": "[encoded data removed]",
      "text/plain": [
       "<Figure size 640x480 with 1 Axes>"
      ]
     },
     "metadata": {},
     "output_type": "display_data"
    }
   ],
   "source": [
    "pyplot.plot(x, psi_analytic(x=x,t=0), label='initial')\n",
    "pyplot.plot(x, psi_analytic(x=x,t=t_max), label=f'analytical at {t_max=}')\n",
    "pyplot.legend()\n",
    "pyplot.grid()\n",
    "show_plot('analytic.pdf')"
   ]
  },
  {
   "cell_type": "markdown",
   "id": "990932c6-6bc2-4b69-9b12-64bd89418a14",
   "metadata": {},
   "source": [
    "**2. overview of applications**\n",
    "\n",
    "* diffusion of heat\n",
    "* diffusion of pollutants in atmosphere and hydrosphere\n",
    "* diffusion of moisture away from evaporating rain drops\n",
    "* diffusion of in PDE originating from SDE in mathematical finance (market volatility)\n",
    "* ..."
   ]
  },
  {
   "cell_type": "markdown",
   "id": "85cef3cf-c950-4ca3-a998-0016e55aa6e5",
   "metadata": {},
   "source": [
    "**3. simple numerical solution using the \"upwind\" scheme coded in Python**\n",
    "\n",
    "Diffusion can be expressed in terms of advective fluxes:\n",
    "\n",
    "$$ \\partial_t {\\color{green}\\psi} +\\partial_x \\big(\\, \\underbrace{-\\mu \\frac{\\partial_x {\\color{green}\\psi}}{{\\color{green}\\psi}}}_{u} \\psi \\big) = 0$$\n",
    "\n",
    "hence we can leverage the basic [**upwind**](https://en.wikipedia.org/wiki/Upwind_scheme) solver to numerically integrate the diffusion equation: \n",
    "\n",
    "* ${\\color{red}n} = \\frac{\\color{red}t}{\\Delta t} \\in 0, 1, \\ldots$   \n",
    "* ${\\color{blue}i} = \\frac{\\color{blue}x}{\\Delta x} \\in 0, 1, \\ldots$   \n",
    "* ${\\color{brown}C} = {\\color{brown}u}\\frac{\\Delta t}{\\Delta x}$ (so called Courant number)   \n",
    "* ${\\color{green}\\psi}_{\\color{blue}i}^{\\color{red}n}$: scalar field at \"grid cell\" $\\color{blue}i$ in space at time \"level\" ${\\color{red}n}$   \n",
    "\n",
    "\n",
    "$$\n",
    "  {\\color{green}\\psi}^{{\\color{red}n}+1}_{\\color{blue}i} = {\\color{green}\\psi}^{\\color{red}n}_{\\color{blue}i} - \\left[F\\left({\\color{green}\\psi}^{\\color{red}n}_{\\color{blue}i},  {\\color{green}\\psi}^{\\color{red}n}_{{\\color{blue}i}+1}, {\\color{brown}C_{i+1/2}^{\\color{red}n}}\\right)-F\\left({\\color{green}\\psi}^{\\color{red}n}_{{\\color{blue}i}-1},{\\color{green}\\psi}^{\\color{red}n}_{\\color{blue}i}, {\\color{brown}C_{i-1/2}^{\\color{red}n}}\\right)\\right]\n",
    "$$\n",
    "$$F(\\psi_L, \\psi_R, C)=\\frac{C+|C|}{2}\\psi_L + \\frac{C-|C|}{2}\\psi_R$$\n",
    "\n",
    "with:\n",
    "\n",
    "$$C_{{\\color{blue}i}-1/2}=\\frac{\\Delta t}{\\Delta x}u_{{\\color{blue}i}-1/2}=-\\mu\\frac{\\Delta t}{\\Delta x}\\frac{{\\color{green}\\psi}_{\\color{blue}i}-{\\color{green}\\psi}_{{\\color{blue}i}-1}}{\\Delta x}\\frac{2}{{\\color{green}\\psi}_{{\\color{blue}i}}+{\\color{green}\\psi}_{{\\color{blue}i}-1}}$$"
   ]
  },
  {
   "cell_type": "markdown",
   "id": "54c41bcf-daf0-4929-a877-139d35fd8260",
   "metadata": {},
   "source": [
    "**4. upwind algorithm coded in Python/NumPy: functions and a useful structure**"
   ]
  },
  {
   "cell_type": "code",
   "execution_count": null,
   "id": "21817562-a7e9-4710-a408-ff91726d88f0",
   "metadata": {},
   "outputs": [],
   "source": [
    "def F(psi_l, psi_r, C):\n",
    "    return .5 * (C + abs(C)) * psi_l + \\\n",
    "           .5 * (C - abs(C)) * psi_r\n",
    "\n",
    "class shift:\n",
    "    pass # TODO"
   ]
  },
  {
   "cell_type": "markdown",
   "id": "b6a7cc2f-02e3-42db-89c9-ed218d0c02c2",
   "metadata": {},
   "source": [
    "**5. upwind algorithm coded in Python/NumPy: data/objects**"
   ]
  },
  {
   "cell_type": "code",
   "execution_count": null,
   "id": "0dec7cf7-8afe-455b-9f4b-66e896eda91b",
   "metadata": {},
   "outputs": [],
   "source": [
    "one = shift(add=1, sub=1)\n",
    "hlf = shift(add=0, sub=1)\n",
    "\n",
    "nt = 500\n",
    "dt = t_max / nt\n",
    "\n",
    "i = slice(1, nx-2)\n",
    "im = slice(1, nx-1)"
   ]
  },
  {
   "cell_type": "markdown",
   "id": "b4bed2f8-2ec1-4ff5-b911-3c5284cc2a80",
   "metadata": {},
   "source": [
    "**6. upwind algorithm coded in Python/NumPy: time-stepping loop**"
   ]
  },
  {
   "cell_type": "code",
   "execution_count": null,
   "id": "4916e1a9-666d-46c4-952d-a3b26a8dd843",
   "metadata": {},
   "outputs": [],
   "source": [
    "psi = psi_analytic(x=x, t=0)\n",
    "C = np.zeros(len(psi) - 1)\n",
    "output = [psi.copy()]\n",
    "for _ in range(nt + 1):\n",
    "    # TODO\n",
    "    assert max(abs(C)) <= 1 \n",
    "    # TODO\n",
    "    output += [psi.copy()]"
   ]
  },
  {
   "cell_type": "markdown",
   "id": "940022cd-c039-4246-89de-7d24ba3de579",
   "metadata": {},
   "source": [
    "**7. comparing analytic and numerical solutions**"
   ]
  },
  {
   "cell_type": "code",
   "execution_count": null,
   "id": "7088e23f-8ccf-43b7-b50a-0f51f40e536c",
   "metadata": {},
   "outputs": [],
   "source": [
    "def plot(step):\n",
    "    fig = pyplot.figure()\n",
    "    pyplot.step(x, psi_analytic(x=x, t=0), label='initial (discretised)', where='mid')\n",
    "    pyplot.step(x, psi_analytic(x=x, t=step*dt), label='analytical (discretised)', where='mid')\n",
    "    pyplot.step(x, output[step], label=f'numerical (upwind) t/t_max={step}', where='mid')\n",
    "    pyplot.legend()\n",
    "    pyplot.grid()\n",
    "    return fig \n",
    "plot(nt)\n",
    "show_plot('numeric.pdf')"
   ]
  },
  {
   "cell_type": "markdown",
   "id": "8c59c820-5e08-4336-aa31-b0c90c8cc2fb",
   "metadata": {},
   "source": [
    "**8. animation**"
   ]
  },
  {
   "cell_type": "code",
   "execution_count": null,
   "id": "34813171-b5c7-4816-8f8d-903c5dbba21f",
   "metadata": {},
   "outputs": [],
   "source": [
    "show_anim(plot, range(0, nt, 3))"
   ]
  },
  {
   "cell_type": "code",
   "execution_count": null,
   "id": "7b860703-a8a2-49d1-bbe7-fea8af3a4288",
   "metadata": {},
   "outputs": [],
   "source": []
  }
 ],
 "metadata": {
  "kernelspec": {
   "display_name": "Python 3",
   "language": "python",
   "name": "python3"
  },
  "language_info": {
   "codemirror_mode": {
    "name": "ipython",
    "version": 3
   },
   "file_extension": ".py",
   "mimetype": "text/x-python",
   "name": "python",
   "nbconvert_exporter": "python",
   "pygments_lexer": "ipython3",
   "version": "3.12.9"
  }
 },
 "nbformat": 4,
 "nbformat_minor": 5
}
