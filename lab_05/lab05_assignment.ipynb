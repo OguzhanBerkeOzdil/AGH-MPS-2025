{
 "cells": [
  {
   "cell_type": "markdown",
   "id": "22137568",
   "metadata": {},
   "source": [
    "## Lab_05\n",
    "Name: Oğuzhan Berke Özdil\n",
    "\n",
    "Album Number: 409361\n",
    "\n",
    "Lab: 05"
   ]
  }
 ],
 "metadata": {
  "language_info": {
   "name": "python"
  }
 },
 "nbformat": 4,
 "nbformat_minor": 5
}
